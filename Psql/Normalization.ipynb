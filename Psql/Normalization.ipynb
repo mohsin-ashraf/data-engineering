{
 "cells": [
  {
   "cell_type": "code",
   "execution_count": 45,
   "metadata": {},
   "outputs": [],
   "source": [
    "import psycopg2"
   ]
  },
  {
   "cell_type": "code",
   "execution_count": 46,
   "metadata": {},
   "outputs": [],
   "source": [
    "try:\n",
    "    conn = psycopg2.connect(\"host=127.0.0.1 dbname=udacity user=mohsin password=python\")\n",
    "except psycopg2.Error as err:\n",
    "    print (\"Error: Couldn't connect with Postgres Database\")\n",
    "    print (err)\n",
    "    \n",
    "try:\n",
    "    cur = conn.cursor()\n",
    "except psycopg2.Error as err:\n",
    "    print (\"Error: Couldn't get the cursor.\")\n",
    "    print (err)\n",
    "    \n",
    "conn.set_session(autocommit=True)"
   ]
  },
  {
   "cell_type": "code",
   "execution_count": 47,
   "metadata": {},
   "outputs": [],
   "source": [
    "try:\n",
    "    cur.execute('CREATE TABLE IF NOT EXISTS music_library (album_id int,\\\n",
    "                 album_name varchar, artist_name varchar, year int, songs text[]);')\n",
    "except psycopg2.Error as err:\n",
    "    print (\"Error: Issue creating the table\")\n",
    "    print (err)"
   ]
  },
  {
   "cell_type": "code",
   "execution_count": 48,
   "metadata": {},
   "outputs": [
    {
     "name": "stdout",
     "output_type": "stream",
     "text": [
      "(1, 'Rubber Soul', 'The Beatles', 1965, ['Song-1', 'Song-2', 'Song-3'])\n",
      "(2, 'Let it be', 'The Beatles', 1965, ['Song-4', 'Song-5'])\n"
     ]
    }
   ],
   "source": [
    "query = \"INSERT INTO music_library (album_id, album_name, artist_name, year, songs) VALUES \\\n",
    "         (%s, %s, %s, %s, %s)\";\n",
    "try:\n",
    "    cur.execute(query,(1,'Rubber Soul','The Beatles',1965, ['Song-1','Song-2','Song-3']))\n",
    "except psycopg2.Error as err:\n",
    "    print (\"Error: Couldn't insert into the database\")\n",
    "    print (err)\n",
    "    \n",
    "try:\n",
    "    cur.execute(query,(2,'Let it be','The Beatles',1965, ['Song-4','Song-5']))\n",
    "except psycopg2.Error as err:\n",
    "    print (\"Error: Couldn't insert into the database\")\n",
    "    print (err)\n",
    "\n",
    "try:\n",
    "    cur.execute(\"SELECT * FROM music_library;\")\n",
    "except psycopg2.Error as err:\n",
    "    print (\"Error: SELECT * \")\n",
    "    print (err)\n",
    "row = cur.fetchone()\n",
    "while row:\n",
    "    print (row)\n",
    "    row = cur.fetchone()"
   ]
  },
  {
   "cell_type": "markdown",
   "metadata": {},
   "source": [
    "# First Normal Form"
   ]
  },
  {
   "cell_type": "code",
   "execution_count": 49,
   "metadata": {},
   "outputs": [],
   "source": [
    "try:\n",
    "    cur.execute(\"CREATE TABLE IF NOT EXISTS music_library2 (album_id int,\\\n",
    "                 album_name varchar, artist_name varchar, year int, song_name varchar);\")\n",
    "except psycopg2.Error as err:\n",
    "    print (\"Error: Couldn't create the table.\")\n",
    "    print (err)\n",
    "\n"
   ]
  },
  {
   "cell_type": "code",
   "execution_count": 50,
   "metadata": {},
   "outputs": [
    {
     "name": "stdout",
     "output_type": "stream",
     "text": [
      "(1, 'Rubber Soul', 'The Beatles', 1965, 'Song-1')\n",
      "(1, 'Rubber Soul', 'The Beatles', 1965, 'Song-2')\n",
      "(1, 'Rubber Soul', 'The Beatles', 1965, 'Song-3')\n",
      "(2, 'Let it be', 'The Beatles', 1965, 'Song-4')\n",
      "(2, 'Let it be', 'The Beatles', 1965, 'Song-5')\n"
     ]
    }
   ],
   "source": [
    "query = \"INSERT INTO music_library2 (album_id, album_name, artist_name, year, song_name) VALUES \\\n",
    "         (%s, %s, %s, %s, %s)\";\n",
    "\n",
    "\n",
    "try:\n",
    "    cur.execute(query,(1,'Rubber Soul','The Beatles',1965, 'Song-1'))\n",
    "except psycopg2.Error as err:\n",
    "    print (\"Error: Couldn't insert into the database\")\n",
    "    print (err)\n",
    "    \n",
    "try:\n",
    "    cur.execute(query,(1,'Rubber Soul','The Beatles',1965, 'Song-2'))\n",
    "except psycopg2.Error as err:\n",
    "    print (\"Error: Couldn't insert into the database\")\n",
    "    print (err)\n",
    "    \n",
    "try:\n",
    "    cur.execute(query,(1,'Rubber Soul','The Beatles',1965, 'Song-3'))\n",
    "except psycopg2.Error as err:\n",
    "    print (\"Error: Couldn't insert into the database\")\n",
    "    print (err)\n",
    "    \n",
    "try:\n",
    "    cur.execute(query,(2,'Let it be','The Beatles',1965, 'Song-4'))\n",
    "except psycopg2.Error as err:\n",
    "    print (\"Error: Couldn't insert into the database\")\n",
    "    print (err)\n",
    "    \n",
    "try:\n",
    "    cur.execute(query,(2,'Let it be','The Beatles',1965, 'Song-5'))\n",
    "except psycopg2.Error as err:\n",
    "    print (\"Error: Couldn't insert into the database\")\n",
    "    print (err)\n",
    "    \n",
    "try:\n",
    "    cur.execute(\"SELECT * FROM music_library2\")\n",
    "except psycopg2.Error as err:\n",
    "    print (\"Error: Couldn't get the result\")\n",
    "    print (err)\n",
    "    \n",
    "row = cur.fetchone()\n",
    "\n",
    "while row:\n",
    "    print (row)\n",
    "    row = cur.fetchone()"
   ]
  },
  {
   "cell_type": "markdown",
   "metadata": {},
   "source": [
    "# Second Normal Form"
   ]
  },
  {
   "cell_type": "code",
   "execution_count": 51,
   "metadata": {},
   "outputs": [],
   "source": [
    "try:\n",
    "    cur.execute(\"CREATE TABLE IF NOT EXISTS album_library (album_id int, \\\n",
    "                 album_name varchar, artist_name varchar, year int)\")\n",
    "except psycopg2.Error as err:\n",
    "    print (\"Error: Couldn't create the table.\")\n",
    "    print (err)\n",
    "\n",
    "try:\n",
    "    cur.execute(\"CREATE TABLE IF NOT EXISTS song_library (song_id int, \\\n",
    "                 album_id int, song_name varchar)\")\n",
    "except psycopg2.Error as err:\n",
    "    print (\"Error: Couldn't create the table.\")\n",
    "    print (err)"
   ]
  },
  {
   "cell_type": "code",
   "execution_count": 52,
   "metadata": {},
   "outputs": [
    {
     "name": "stdout",
     "output_type": "stream",
     "text": [
      "(1, 'Rubber Soul', 'The Beatles', 1965)\n",
      "(2, 'Let it be', 'The Beatles', 1970)\n"
     ]
    }
   ],
   "source": [
    "query = \"INSERT INTO album_library (album_id, album_name, artist_name, year) VALUES(%s, %s, %s, %s)\"\n",
    "try:\n",
    "    cur.execute(query,(1,'Rubber Soul','The Beatles',1965))\n",
    "except psycopg2.Error as err:\n",
    "    print (\"Error: Couldn't insert the data.\")\n",
    "    print (err)\n",
    "    \n",
    "try:\n",
    "    cur.execute(query,(2,'Let it be','The Beatles',1970))\n",
    "except psycopg2.Error as err:\n",
    "    print (\"Error: Couldn't insert the data.\")\n",
    "    print (err)\n",
    "    \n",
    "try:\n",
    "    cur.execute(\"SELECT * FROM album_library\")\n",
    "except psycopg2.Error as err:\n",
    "    print (\"Couldn't get the data.\")\n",
    "    print (err)\n",
    "\n",
    "row = cur.fetchone()\n",
    "while row:\n",
    "    print (row)\n",
    "    row = cur.fetchone()"
   ]
  },
  {
   "cell_type": "code",
   "execution_count": 53,
   "metadata": {},
   "outputs": [
    {
     "name": "stdout",
     "output_type": "stream",
     "text": [
      "(1, 1, 'Song-1')\n",
      "(2, 1, 'Song-2')\n",
      "(3, 1, 'Song-3')\n",
      "(4, 2, 'Song-4')\n",
      "(5, 2, 'Song-5')\n"
     ]
    }
   ],
   "source": [
    "query = \"INSERT INTO song_library (song_id, album_id, song_name) VALUES(%s, %s, %s)\"\n",
    "try:\n",
    "    cur.execute(query,(1,1,'Song-1'))\n",
    "except psycopg2.Error as err:\n",
    "    print (\"Error: Couldn't insert the data.\")\n",
    "    print (err)\n",
    "    \n",
    "try:\n",
    "    cur.execute(query,(2,1,'Song-2'))\n",
    "except psycopg2.Error as err:\n",
    "    print (\"Error: Couldn't insert the data.\")\n",
    "    print (err)\n",
    "    \n",
    "try:\n",
    "    cur.execute(query,(3,1,'Song-3'))\n",
    "except psycopg2.Error as err:\n",
    "    print (\"Error: Couldn't insert the data.\")\n",
    "    print (err)\n",
    "    \n",
    "try:\n",
    "    cur.execute(query,(4,2,'Song-4'))\n",
    "except psycopg2.Error as err:\n",
    "    print (\"Error: Couldn't insert the data.\")\n",
    "    print (err)\n",
    "    \n",
    "try:\n",
    "    cur.execute(query,(5,2,'Song-5'))\n",
    "except psycopg2.Error as err:\n",
    "    print (\"Error: Couldn't insert the data.\")\n",
    "    print (err)\n",
    "    \n",
    "\n",
    "try:\n",
    "    cur.execute(\"SELECT * FROM song_library\")\n",
    "except psycopg2.Error as err:\n",
    "    print (\"Couldn't get the data.\")\n",
    "    print (err)\n",
    "\n",
    "row = cur.fetchone()\n",
    "while row:\n",
    "    print (row)\n",
    "    row = cur.fetchone()"
   ]
  },
  {
   "cell_type": "code",
   "execution_count": 54,
   "metadata": {},
   "outputs": [
    {
     "name": "stdout",
     "output_type": "stream",
     "text": [
      "(1, 'Rubber Soul', 'The Beatles', 1965, 1, 1, 'Song-1')\n",
      "(1, 'Rubber Soul', 'The Beatles', 1965, 2, 1, 'Song-2')\n",
      "(1, 'Rubber Soul', 'The Beatles', 1965, 3, 1, 'Song-3')\n",
      "(2, 'Let it be', 'The Beatles', 1970, 4, 2, 'Song-4')\n",
      "(2, 'Let it be', 'The Beatles', 1970, 5, 2, 'Song-5')\n"
     ]
    }
   ],
   "source": [
    "query = \"SELECT * FROM album_library JOIN song_library ON album_library.album_id=song_library.album_id;\"\n",
    "try:\n",
    "    cur.execute(query)\n",
    "except psycopg2.Error as err:\n",
    "    print (\"Error: SELECT *\")\n",
    "    print (err)\n",
    "\n",
    "row = cur.fetchone()\n",
    "while row:\n",
    "    print (row)\n",
    "    row = cur.fetchone()"
   ]
  },
  {
   "cell_type": "markdown",
   "metadata": {},
   "source": [
    "# Third Normal Form"
   ]
  },
  {
   "cell_type": "code",
   "execution_count": 55,
   "metadata": {},
   "outputs": [],
   "source": [
    "try:\n",
    "    cur.execute(\"CREATE TABLE IF NOT EXISTS album_library2 (album_id int, album_name varchar, artist_id int, year int)\")\n",
    "except psycopg2.Error as err:\n",
    "    print (\"Error: Couldn't create the table.\")\n",
    "    print (err)\n",
    "\n",
    "try:\n",
    "    cur.execute(\"CREATE TABLE IF NOT EXISTS song_library2 (song_id int, album_id int, song_name varchar);\")\n",
    "except psycopg2.Error as err:\n",
    "    print (\"Error: Couldn't create the table.\")\n",
    "    print (err)\n",
    "try:\n",
    "    cur.execute(\"CREATE TABLE IF NOT EXISTS artist_library (artist_id int, artist_name varchar);\")\n",
    "except psycopg2.Error as err:\n",
    "    print (\"Error: Couldn't create the table.\")\n",
    "    print (err)"
   ]
  },
  {
   "cell_type": "code",
   "execution_count": 56,
   "metadata": {},
   "outputs": [],
   "source": [
    "try:\n",
    "    cur.execute(\"INSERT INTO artist_library (artist_id, artist_name) VALUES (%s, %s)\", (1,'The Beatles'))\n",
    "except psycopg2.Error as err:\n",
    "    print (\"Error: Couldn't create the table.\")\n",
    "    print (err)"
   ]
  },
  {
   "cell_type": "code",
   "execution_count": 57,
   "metadata": {},
   "outputs": [
    {
     "name": "stdout",
     "output_type": "stream",
     "text": [
      "(1, 'The Beatles')\n"
     ]
    }
   ],
   "source": [
    "try:\n",
    "    cur.execute(\"SELECT * FROM artist_library;\")\n",
    "except psycopg2.Error as err:\n",
    "    print (\"Error: Couldn't get data\")\n",
    "    print (err)\n",
    "\n",
    "row = cur.fetchone()\n",
    "while row:\n",
    "    print (row)\n",
    "    row = cur.fetchone()"
   ]
  },
  {
   "cell_type": "code",
   "execution_count": 58,
   "metadata": {},
   "outputs": [],
   "source": [
    "query = \"INSERT INTO album_library2 (album_id, album_name, artist_id, year) VALUES (%s, %s, %s, %s)\"\n",
    "try:\n",
    "    cur.execute(query,(1,'Rubber Soul',1,1965))\n",
    "except psycopg2.Error as err:\n",
    "    print (\"Error: Couldn't insert data.\")\n",
    "    print (err)\n",
    "\n",
    "try:\n",
    "    cur.execute(query,(2,'Let it be',1,1970))\n",
    "except psycopg2.Error as err:\n",
    "    print (\"Error: Couldn't insert data.\")\n",
    "    print (err)"
   ]
  },
  {
   "cell_type": "code",
   "execution_count": 59,
   "metadata": {},
   "outputs": [],
   "source": [
    "query = \"INSERT INTO song_library2 (song_id, album_id, song_name) VALUES (%s, %s, %s)\"\n",
    "try:\n",
    "    cur.execute(query,(1,1,\"Song-1\"))\n",
    "except psycopg2.Error as err:\n",
    "    print (\"Error: Couldn't insert data.\")\n",
    "    print (err)\n",
    "\n",
    "try:\n",
    "    cur.execute(query,(2,1,'Song-2'))\n",
    "except psycopg2.Error as err:\n",
    "    print (\"Error: Couldn't insert data.\")\n",
    "    print (err)\n",
    "    \n",
    "try:\n",
    "    cur.execute(query,(3,1,'Song-3'))\n",
    "except psycopg2.Error as err:\n",
    "    print (\"Error: Couldn't insert data.\")\n",
    "    print (err)\n",
    "\n",
    "try:\n",
    "    cur.execute(query,(4,2,'Song-4'))\n",
    "except psycopg2.Error as err:\n",
    "    print (\"Error: Couldn't insert data.\")\n",
    "    print (err)\n",
    "    \n",
    "try:\n",
    "    cur.execute(query,(5,2,'Song-5'))\n",
    "except psycopg2.Error as err:\n",
    "    print (\"Error: Couldn't insert data.\")\n",
    "    print (err)"
   ]
  },
  {
   "cell_type": "code",
   "execution_count": 60,
   "metadata": {},
   "outputs": [
    {
     "name": "stdout",
     "output_type": "stream",
     "text": [
      "(1, 1, 'Song-1')\n",
      "(2, 1, 'Song-2')\n",
      "(3, 1, 'Song-3')\n",
      "(4, 2, 'Song-4')\n",
      "(5, 2, 'Song-5')\n"
     ]
    }
   ],
   "source": [
    "try:\n",
    "    cur.execute(\"SELECT * FROM song_library2;\")\n",
    "except psycopg2.Error as err:\n",
    "    print (\"Error: Couldn't insert the data.\")\n",
    "    print (err)\n",
    "\n",
    "row = cur.fetchone()\n",
    "while row:\n",
    "    print (row)\n",
    "    row = cur.fetchone()"
   ]
  },
  {
   "cell_type": "code",
   "execution_count": 61,
   "metadata": {},
   "outputs": [
    {
     "name": "stdout",
     "output_type": "stream",
     "text": [
      "(1, 'The Beatles', 1, 'Rubber Soul', 1, 1965, 1, 1, 'Song-1')\n",
      "(1, 'The Beatles', 1, 'Rubber Soul', 1, 1965, 2, 1, 'Song-2')\n",
      "(1, 'The Beatles', 1, 'Rubber Soul', 1, 1965, 3, 1, 'Song-3')\n",
      "(1, 'The Beatles', 2, 'Let it be', 1, 1970, 4, 2, 'Song-4')\n",
      "(1, 'The Beatles', 2, 'Let it be', 1, 1970, 5, 2, 'Song-5')\n"
     ]
    }
   ],
   "source": [
    "query = \"SELECT * FROM (artist_library JOIN album_library2 ON artist_library.artist_id=album_library2.artist_id) \\\n",
    "         JOIN song_library2 ON album_library2.album_id=song_library2.album_id\"\n",
    "try:\n",
    "    cur.execute(query)\n",
    "except psycopg2.Error as err:\n",
    "    print (\"Error: Couldn't get data\")\n",
    "    print (err)\n",
    "\n",
    "row = cur.fetchone()\n",
    "while row:\n",
    "    print (row)\n",
    "    row = cur.fetchone()"
   ]
  },
  {
   "cell_type": "code",
   "execution_count": 62,
   "metadata": {},
   "outputs": [],
   "source": [
    "try:\n",
    "    cur.execute(\"DROP TABLE music_library\")\n",
    "    cur.execute(\"DROP TABLE music_library2\")\n",
    "    cur.execute(\"DROP TABLE album_library\")\n",
    "    cur.execute(\"DROP TABLE album_library2\")\n",
    "    cur.execute(\"DROP TABLE song_library\")\n",
    "    cur.execute(\"DROP TABLE song_library2\")\n",
    "    cur.execute(\"DROP TABLE artist_library\")\n",
    "except psycopg2.Error as err:\n",
    "    print (\"Error: Dropping the tables.\")\n",
    "    print (err)\n",
    "    "
   ]
  },
  {
   "cell_type": "code",
   "execution_count": null,
   "metadata": {},
   "outputs": [],
   "source": []
  },
  {
   "cell_type": "code",
   "execution_count": null,
   "metadata": {},
   "outputs": [],
   "source": []
  }
 ],
 "metadata": {
  "kernelspec": {
   "display_name": "Python 3",
   "language": "python",
   "name": "python3"
  },
  "language_info": {
   "codemirror_mode": {
    "name": "ipython",
    "version": 3
   },
   "file_extension": ".py",
   "mimetype": "text/x-python",
   "name": "python",
   "nbconvert_exporter": "python",
   "pygments_lexer": "ipython3",
   "version": "3.7.4"
  }
 },
 "nbformat": 4,
 "nbformat_minor": 2
}
